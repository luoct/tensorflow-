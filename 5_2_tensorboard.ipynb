{
  "nbformat": 4,
  "nbformat_minor": 0,
  "metadata": {
    "colab": {
      "name": "5-2-tensorboard",
      "provenance": [],
      "collapsed_sections": [],
      "authorship_tag": "ABX9TyPrdi4SCKU+7Yl17o4SAYJT",
      "include_colab_link": true
    },
    "kernelspec": {
      "name": "python3",
      "display_name": "Python 3"
    }
  },
  "cells": [
    {
      "cell_type": "markdown",
      "metadata": {
        "id": "view-in-github",
        "colab_type": "text"
      },
      "source": [
        "<a href=\"https://colab.research.google.com/github/luoct/tensorflow-GettingStart/blob/main/5_2_tensorboard.ipynb\" target=\"_parent\"><img src=\"https://colab.research.google.com/assets/colab-badge.svg\" alt=\"Open In Colab\"/></a>"
      ]
    },
    {
      "cell_type": "code",
      "metadata": {
        "colab": {
          "base_uri": "https://localhost:8080/"
        },
        "id": "8qCxFT_jT6Et",
        "outputId": "ff97d2b0-bb1f-443f-c6c6-a9f5e9b8df0c"
      },
      "source": [
        "%tensorflow_version 1.x\r\n",
        "\r\n",
        "import tensorflow as tf\r\n",
        "from tensorflow.examples.tutorials.mnist import input_data"
      ],
      "execution_count": 1,
      "outputs": [
        {
          "output_type": "stream",
          "text": [
            "TensorFlow 1.x selected.\n"
          ],
          "name": "stdout"
        }
      ]
    },
    {
      "cell_type": "code",
      "metadata": {
        "colab": {
          "base_uri": "https://localhost:8080/"
        },
        "id": "qgrs7JhGLT1J",
        "outputId": "09819599-3df7-4ab1-aec1-6d948008cb02"
      },
      "source": [
        "\r\n",
        "#载入数据集\r\n",
        "mnist = input_data.read_data_sets(\"./MNIST_data\",one_hot=True)\r\n",
        "\r\n",
        "#每个批次的大小\r\n",
        "batch_size = 100\r\n",
        "#计算一共有多少个批次\r\n",
        "n_batch = mnist.train.num_examples // batch_size\r\n",
        "\r\n",
        "#定义两个placeholder\r\n",
        "with tf.name_scope('input'):\r\n",
        "    x = tf.placeholder(tf.float32,[None,784], name='x-input')\r\n",
        "    y = tf.placeholder(tf.float32,[None,10], name='y-input')\r\n",
        "\r\n",
        "#创建一个简单的神经网络\r\n",
        "with tf.name_scope('layer'):\r\n",
        "  with tf.name_scope('Weight'):\r\n",
        "    W = tf.Variable(tf.zeros([784,10]))\r\n",
        "  with tf.name_scope('biases'):\r\n",
        "    b = tf.Variable(tf.zeros([10]))\r\n",
        "  with tf.name_scope('softmax'):\r\n",
        "    prediction = tf.nn.softmax(tf.matmul(x,W)+b)\r\n",
        "\r\n",
        "#二次代价函数\r\n",
        "# loss = tf.reduce_mean(tf.square(y-prediction))\r\n",
        "with tf.name_scope('loss'):\r\n",
        "  loss = tf.reduce_mean(tf.nn.softmax_cross_entropy_with_logits(labels=y,logits=prediction))\r\n",
        "#使用梯度下降法\r\n",
        "# train_step = tf.train.GradientDescentOptimizer(0.2).minimize(loss)\r\n",
        "with tf.name_scope('train'):\r\n",
        "  train_step = tf.train.AdamOptimizer(1e-2).minimize(loss)\r\n",
        "\r\n",
        "#初始化变量\r\n",
        "init = tf.global_variables_initializer()\r\n",
        "\r\n",
        "with tf.name_scope('accuracy'):\r\n",
        "    #结果存放在一个布尔型列表中\r\n",
        "  with tf.name_scope('correct_prediction'):\r\n",
        "    correct_prediction = tf.equal(tf.argmax(y,1),tf.argmax(prediction,1))#argmax返回一维张量中最大的值所在的位置\r\n",
        "    #求准确率\r\n",
        "  with tf.name_scope('accuracy'):\r\n",
        "    accuracy = tf.reduce_mean(tf.cast(correct_prediction,tf.float32))\r\n",
        "\r\n",
        "with tf.Session() as sess:\r\n",
        "    sess.run(init)\r\n",
        "    writer = tf.summary.FileWriter('logs/', sess.graph)\r\n",
        "    for epoch in range(1):\r\n",
        "        for batch in range(n_batch):\r\n",
        "            batch_xs,batch_ys =  mnist.train.next_batch(batch_size)\r\n",
        "            sess.run(train_step,feed_dict={x:batch_xs,y:batch_ys})\r\n",
        "        \r\n",
        "        acc = sess.run(accuracy,feed_dict={x:mnist.test.images,y:mnist.test.labels})\r\n",
        "        print(\"Iter \" + str(epoch) + \",Testing Accuracy \" + str(acc))\r\n",
        "\r\n"
      ],
      "execution_count": 2,
      "outputs": [
        {
          "output_type": "stream",
          "text": [
            "WARNING:tensorflow:From <ipython-input-2-ae48a36d25a6>:3: read_data_sets (from tensorflow.contrib.learn.python.learn.datasets.mnist) is deprecated and will be removed in a future version.\n",
            "Instructions for updating:\n",
            "Please use alternatives such as official/mnist/dataset.py from tensorflow/models.\n",
            "WARNING:tensorflow:From /tensorflow-1.15.2/python3.6/tensorflow_core/contrib/learn/python/learn/datasets/mnist.py:260: maybe_download (from tensorflow.contrib.learn.python.learn.datasets.base) is deprecated and will be removed in a future version.\n",
            "Instructions for updating:\n",
            "Please write your own downloading logic.\n",
            "WARNING:tensorflow:From /tensorflow-1.15.2/python3.6/tensorflow_core/contrib/learn/python/learn/datasets/base.py:252: _internal_retry.<locals>.wrap.<locals>.wrapped_fn (from tensorflow.contrib.learn.python.learn.datasets.base) is deprecated and will be removed in a future version.\n",
            "Instructions for updating:\n",
            "Please use urllib or similar directly.\n",
            "Successfully downloaded train-images-idx3-ubyte.gz 9912422 bytes.\n",
            "WARNING:tensorflow:From /tensorflow-1.15.2/python3.6/tensorflow_core/contrib/learn/python/learn/datasets/mnist.py:262: extract_images (from tensorflow.contrib.learn.python.learn.datasets.mnist) is deprecated and will be removed in a future version.\n",
            "Instructions for updating:\n",
            "Please use tf.data to implement this functionality.\n",
            "Extracting ./MNIST_data/train-images-idx3-ubyte.gz\n",
            "Successfully downloaded train-labels-idx1-ubyte.gz 28881 bytes.\n",
            "WARNING:tensorflow:From /tensorflow-1.15.2/python3.6/tensorflow_core/contrib/learn/python/learn/datasets/mnist.py:267: extract_labels (from tensorflow.contrib.learn.python.learn.datasets.mnist) is deprecated and will be removed in a future version.\n",
            "Instructions for updating:\n",
            "Please use tf.data to implement this functionality.\n",
            "Extracting ./MNIST_data/train-labels-idx1-ubyte.gz\n",
            "WARNING:tensorflow:From /tensorflow-1.15.2/python3.6/tensorflow_core/contrib/learn/python/learn/datasets/mnist.py:110: dense_to_one_hot (from tensorflow.contrib.learn.python.learn.datasets.mnist) is deprecated and will be removed in a future version.\n",
            "Instructions for updating:\n",
            "Please use tf.one_hot on tensors.\n",
            "Successfully downloaded t10k-images-idx3-ubyte.gz 1648877 bytes.\n",
            "Extracting ./MNIST_data/t10k-images-idx3-ubyte.gz\n",
            "Successfully downloaded t10k-labels-idx1-ubyte.gz 4542 bytes.\n",
            "Extracting ./MNIST_data/t10k-labels-idx1-ubyte.gz\n",
            "WARNING:tensorflow:From /tensorflow-1.15.2/python3.6/tensorflow_core/contrib/learn/python/learn/datasets/mnist.py:290: DataSet.__init__ (from tensorflow.contrib.learn.python.learn.datasets.mnist) is deprecated and will be removed in a future version.\n",
            "Instructions for updating:\n",
            "Please use alternatives such as official/mnist/dataset.py from tensorflow/models.\n",
            "WARNING:tensorflow:From <ipython-input-2-ae48a36d25a6>:27: softmax_cross_entropy_with_logits (from tensorflow.python.ops.nn_ops) is deprecated and will be removed in a future version.\n",
            "Instructions for updating:\n",
            "\n",
            "Future major versions of TensorFlow will allow gradients to flow\n",
            "into the labels input on backprop by default.\n",
            "\n",
            "See `tf.nn.softmax_cross_entropy_with_logits_v2`.\n",
            "\n",
            "Iter 0,Testing Accuracy 0.9212\n"
          ],
          "name": "stdout"
        }
      ]
    },
    {
      "cell_type": "markdown",
      "metadata": {
        "id": "IGjsnu1kO_3N"
      },
      "source": [
        ""
      ]
    },
    {
      "cell_type": "code",
      "metadata": {
        "id": "84i0aGncN6hF"
      },
      "source": [
        "%reload_ext tensorboard\r\n",
        "%tensorboard --logdir '/content/logs'"
      ],
      "execution_count": null,
      "outputs": []
    },
    {
      "cell_type": "code",
      "metadata": {
        "id": "eUA2ifoWqVcs"
      },
      "source": [
        "tensorboard --logdir=your_dir --host=127.0.0.1"
      ],
      "execution_count": 4,
      "outputs": []
    }
  ]
}