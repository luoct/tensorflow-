{
  "nbformat": 4,
  "nbformat_minor": 0,
  "metadata": {
    "colab": {
      "name": "5-2-tensorboard",
      "provenance": [],
      "collapsed_sections": [],
      "authorship_tag": "ABX9TyOnQQk9uOSRGnByxTpKtwhM",
      "include_colab_link": true
    },
    "kernelspec": {
      "name": "python3",
      "display_name": "Python 3"
    }
  },
  "cells": [
    {
      "cell_type": "markdown",
      "metadata": {
        "id": "view-in-github",
        "colab_type": "text"
      },
      "source": [
        "<a href=\"https://colab.research.google.com/github/luoct/tensorflow-GettingStart/blob/main/5_2_tensorboard.ipynb\" target=\"_parent\"><img src=\"https://colab.research.google.com/assets/colab-badge.svg\" alt=\"Open In Colab\"/></a>"
      ]
    },
    {
      "cell_type": "code",
      "metadata": {
        "colab": {
          "base_uri": "https://localhost:8080/"
        },
        "id": "8qCxFT_jT6Et",
        "outputId": "ff97d2b0-bb1f-443f-c6c6-a9f5e9b8df0c"
      },
      "source": [
        "%tensorflow_version 1.x\r\n",
        "\r\n",
        "import tensorflow as tf\r\n",
        "from tensorflow.examples.tutorials.mnist import input_data"
      ],
      "execution_count": null,
      "outputs": [
        {
          "output_type": "stream",
          "text": [
            "TensorFlow 1.x selected.\n"
          ],
          "name": "stdout"
        }
      ]
    },
    {
      "cell_type": "code",
      "metadata": {
        "colab": {
          "base_uri": "https://localhost:8080/"
        },
        "id": "qgrs7JhGLT1J",
        "outputId": "09819599-3df7-4ab1-aec1-6d948008cb02"
      },
      "source": [
        "#载入数据集\r\n",
        "mnist = input_data.read_data_sets(\"./MNIST_data\",one_hot=True)\r\n",
        "\r\n",
        "#每个批次的大小\r\n",
        "batch_size = 100\r\n",
        "#计算一共有多少个批次\r\n",
        "n_batch = mnist.train.num_examples // batch_size\r\n",
        "\r\n",
        "# 参数概要\r\n",
        "def variable_summaries(var):\r\n",
        "    with tf.name_scope('summaries'):\r\n",
        "        mean = tf.reduce_mean(var)\r\n",
        "        tf.summary.scalar('mean', mean)\r\n",
        "        with tf.name_scope('stddev'):\r\n",
        "            stddev = tf.sqrt(tf.reduce_mean(tf.square(var-mean)))\r\n",
        "        tf.summary.scalar('stddev', stddev)\r\n",
        "        tf.summary.scalar('max', tf.reduce_max(var))\r\n",
        "        tf.summary.scalar('min', tf.reduce_min(var))\r\n",
        "        tf.summary.histogram('histogram', var)\r\n",
        "\r\n",
        "\r\n",
        "#定义两个placeholder\r\n",
        "with tf.name_scope('input'):\r\n",
        "    x = tf.placeholder(tf.float32,[None,784], name='x-input')\r\n",
        "    y = tf.placeholder(tf.float32,[None,10], name='y-input')\r\n",
        "\r\n",
        "with tf.name_scope('layer'):\r\n",
        "    #创建一个简单的神经网络\r\n",
        "    with tf.name_scope('weights'):\r\n",
        "        W = tf.Variable(tf.zeros([784,10]), name='W')\r\n",
        "        variable_summaries(W)\r\n",
        "    with tf.name_scope('biases'):\r\n",
        "        b = tf.Variable(tf.zeros([10]), name='b')\r\n",
        "        variable_summaries(b)\r\n",
        "    with tf.name_scope('wx_plus_b'):\r\n",
        "        wx_plus_b = tf.matmul(x,W)+b\r\n",
        "    with tf.name_scope('softmax'):\r\n",
        "        prediction = tf.nn.softmax(wx_plus_b)\r\n",
        "\r\n",
        "#二次代价函数\r\n",
        "# loss = tf.reduce_mean(tf.square(y-prediction))\r\n",
        "with tf.name_scope('loss'):\r\n",
        "    loss = tf.reduce_mean(tf.nn.softmax_cross_entropy_with_logits(labels=y,logits=prediction))\r\n",
        "    tf.summary.scalar('loss', loss)\r\n",
        "#使用梯度下降法\r\n",
        "# train_step = tf.train.GradientDescentOptimizer(0.2).minimize(loss)\r\n",
        "with tf.name_scope('train'):\r\n",
        "    train_step = tf.train.AdamOptimizer(1e-2).minimize(loss)\r\n",
        "\r\n",
        "#初始化变量\r\n",
        "init = tf.global_variables_initializer()\r\n",
        "\r\n",
        "with tf.name_scope('accuracy'):\r\n",
        "    with tf.name_scope('correct_prediction'):\r\n",
        "        #结果存放在一个布尔型列表中\r\n",
        "        correct_prediction = tf.equal(tf.argmax(y,1),tf.argmax(prediction,1))#argmax返回一维张量中最大的值所在的位置\r\n",
        "        #求准确率\r\n",
        "    with tf.name_scope('accuracy'):\r\n",
        "        accuracy = tf.reduce_mean(tf.cast(correct_prediction,tf.float32))\r\n",
        "        tf.summary.scalar('accuracy', accuracy)\r\n",
        "\r\n",
        "\r\n",
        "# 合并所有summary\r\n",
        "merged = tf.summary.merge_all()\r\n",
        "\r\n",
        "with tf.Session() as sess:\r\n",
        "    sess.run(init)\r\n",
        "    writer = tf.summary.FileWriter('logs/', sess.graph)\r\n",
        "    for epoch in range(50):\r\n",
        "        for batch in range(n_batch):\r\n",
        "            batch_xs,batch_ys =  mnist.train.next_batch(batch_size)\r\n",
        "            summary, _ = sess.run([merged, train_step],feed_dict={x:batch_xs,y:batch_ys})\r\n",
        "        writer.add_summary(summary, epoch)\r\n",
        "        acc = sess.run(accuracy,feed_dict={x:mnist.test.images,y:mnist.test.labels})\r\n",
        "\r\n",
        "        print(\"Iter \" + str(epoch) + \",Testing Accuracy \" + str(acc))\r\n",
        "\r\n"
      ],
      "execution_count": null,
      "outputs": [
        {
          "output_type": "stream",
          "text": [
            "WARNING...\n",
            "Iter 0,Testing Accuracy 0.9212\n",
            "...\n",
            "...\n",
            "...\n",
          ],
          "name": "stdout"
        }
      ]
    },
    {
      "cell_type": "markdown",
      "metadata": {
        "id": "IGjsnu1kO_3N"
      },
      "source": [
        ""
      ]
    },
    {
      "cell_type": "code",
      "metadata": {
        "id": "84i0aGncN6hF"
      },
      "source": [
        "# 在Google Colab中使用\r\n",
        "%reload_ext tensorboard\r\n",
        "%tensorboard --logdir '/content/logs'"
      ],
      "execution_count": null,
      "outputs": []
    },
    {
      "cell_type": "code",
      "metadata": {
        "id": "eUA2ifoWqVcs"
      },
      "source": [
        "# 在本地环境的命令行中使用\r\n",
        "tensorboard --logdir=your_dir --host=127.0.0.1"
      ],
      "execution_count": null,
      "outputs": []
    }
  ]
}
