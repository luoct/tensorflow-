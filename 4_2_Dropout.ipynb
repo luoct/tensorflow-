{
  "nbformat": 4,
  "nbformat_minor": 0,
  "metadata": {
    "colab": {
      "name": "4-2-Dropout.ipynb",
      "provenance": [],
      "authorship_tag": "ABX9TyPfl3mnsOHk/ZBfZ0uqiZFd",
      "include_colab_link": true
    },
    "kernelspec": {
      "display_name": "Python 3",
      "name": "python3"
    }
  },
  "cells": [
    {
      "cell_type": "markdown",
      "metadata": {
        "id": "view-in-github",
        "colab_type": "text"
      },
      "source": [
        "<a href=\"https://colab.research.google.com/github/luoct/tensorflow-GettingStart/blob/main/4_2_Dropout.ipynb\" target=\"_parent\"><img src=\"https://colab.research.google.com/assets/colab-badge.svg\" alt=\"Open In Colab\"/></a>"
      ]
    },
    {
      "cell_type": "code",
      "metadata": {
        "id": "4_4ezDb5ScHp",
        "colab": {
          "base_uri": "https://localhost:8080/"
        },
        "outputId": "8cb3c315-eabb-40d7-8980-306f53c1e0e6"
      },
      "source": [
        "%tensorflow_version 1.x\r\n",
        "\r\n",
        "import tensorflow as tf\r\n",
        "from tensorflow.examples.tutorials.mnist import input_data"
      ],
      "execution_count": 1,
      "outputs": [
        {
          "output_type": "stream",
          "text": [
            "TensorFlow 1.x selected.\n"
          ],
          "name": "stdout"
        }
      ]
    },
    {
      "cell_type": "code",
      "metadata": {
        "colab": {
          "base_uri": "https://localhost:8080/"
        },
        "id": "CgOs32tP8Lm7",
        "outputId": "146e96e6-18b4-448b-ba8c-541deeee3909"
      },
      "source": [
        "\r\n",
        "#载入数据集\r\n",
        "mnist = input_data.read_data_sets(\"MNIST_data\",one_hot=True)\r\n",
        "\r\n",
        "#每个批次的大小\r\n",
        "batch_size = 100\r\n",
        "#计算一共有多少个批次\r\n",
        "n_batch = mnist.train.num_examples // batch_size\r\n",
        "\r\n",
        "#定义两个placeholder\r\n",
        "x = tf.placeholder(tf.float32,[None,784])\r\n",
        "y = tf.placeholder(tf.float32,[None,10])\r\n",
        "keep_prob=tf.placeholder(tf.float32)\r\n",
        "\r\n",
        "#创建一个简单的神经网络\r\n",
        "W1 = tf.Variable(tf.truncated_normal([784,2000],stddev=0.1))\r\n",
        "b1 = tf.Variable(tf.zeros([2000])+0.1)\r\n",
        "L1 = tf.nn.tanh(tf.matmul(x,W1)+b1)\r\n",
        "L1_drop = tf.nn.dropout(L1,keep_prob) \r\n",
        "\r\n",
        "W2 = tf.Variable(tf.truncated_normal([2000,2000],stddev=0.1))\r\n",
        "b2 = tf.Variable(tf.zeros([2000])+0.1)\r\n",
        "L2 = tf.nn.tanh(tf.matmul(L1_drop,W2)+b2)\r\n",
        "L2_drop = tf.nn.dropout(L2,keep_prob) \r\n",
        "\r\n",
        "W3 = tf.Variable(tf.truncated_normal([2000,1000],stddev=0.1))\r\n",
        "b3 = tf.Variable(tf.zeros([1000])+0.1)\r\n",
        "L3 = tf.nn.tanh(tf.matmul(L2_drop,W3)+b3)\r\n",
        "L3_drop = tf.nn.dropout(L3,keep_prob) \r\n",
        "\r\n",
        "W4 = tf.Variable(tf.truncated_normal([1000,10],stddev=0.1))\r\n",
        "b4 = tf.Variable(tf.zeros([10])+0.1)\r\n",
        "prediction = tf.nn.softmax(tf.matmul(L3_drop,W4)+b4)\r\n",
        "\r\n",
        "#二次代价函数\r\n",
        "# loss = tf.reduce_mean(tf.square(y-prediction))\r\n",
        "loss = tf.reduce_mean(tf.nn.softmax_cross_entropy_with_logits(labels=y,logits=prediction))\r\n",
        "#使用梯度下降法\r\n",
        "train_step = tf.train.GradientDescentOptimizer(0.2).minimize(loss)\r\n",
        "\r\n",
        "#初始化变量\r\n",
        "init = tf.global_variables_initializer()\r\n",
        "\r\n",
        "#结果存放在一个布尔型列表中\r\n",
        "correct_prediction = tf.equal(tf.argmax(y,1),tf.argmax(prediction,1))#argmax返回一维张量中最大的值所在的位置\r\n",
        "#求准确率\r\n",
        "accuracy = tf.reduce_mean(tf.cast(correct_prediction,tf.float32))\r\n",
        "\r\n",
        "with tf.Session() as sess:\r\n",
        "    sess.run(init)\r\n",
        "    for epoch in range(31):\r\n",
        "        for batch in range(n_batch):\r\n",
        "            batch_xs,batch_ys =  mnist.train.next_batch(batch_size)\r\n",
        "            sess.run(train_step,feed_dict={x:batch_xs,y:batch_ys,keep_prob:0.7})\r\n",
        "        \r\n",
        "        test_acc = sess.run(accuracy,feed_dict={x:mnist.test.images,y:mnist.test.labels,keep_prob:1.0})\r\n",
        "        train_acc = sess.run(accuracy,feed_dict={x:mnist.train.images,y:mnist.train.labels,keep_prob:1.0})\r\n",
        "        print(\"Iter \" + str(epoch) + \",Testing Accuracy \" + str(test_acc) +\",Training Accuracy \" + str(train_acc))\r\n",
        "\r\n"
      ],
      "execution_count": 2,
      "outputs": [
        {
          "output_type": "stream",
          "text": [
            "WARNING:tensorflow:From <ipython-input-2-7f349480b95f>:3: read_data_sets (from tensorflow.contrib.learn.python.learn.datasets.mnist) is deprecated and will be removed in a future version.\n",
            "Instructions for updating:\n",
            "Please use alternatives such as official/mnist/dataset.py from tensorflow/models.\n",
            "WARNING:tensorflow:From /tensorflow-1.15.2/python3.6/tensorflow_core/contrib/learn/python/learn/datasets/mnist.py:260: maybe_download (from tensorflow.contrib.learn.python.learn.datasets.base) is deprecated and will be removed in a future version.\n",
            "Instructions for updating:\n",
            "Please write your own downloading logic.\n",
            "WARNING:tensorflow:From /tensorflow-1.15.2/python3.6/tensorflow_core/contrib/learn/python/learn/datasets/mnist.py:262: extract_images (from tensorflow.contrib.learn.python.learn.datasets.mnist) is deprecated and will be removed in a future version.\n",
            "Instructions for updating:\n",
            "Please use tf.data to implement this functionality.\n",
            "Extracting MNIST_data/train-images-idx3-ubyte.gz\n",
            "WARNING:tensorflow:From /tensorflow-1.15.2/python3.6/tensorflow_core/contrib/learn/python/learn/datasets/mnist.py:267: extract_labels (from tensorflow.contrib.learn.python.learn.datasets.mnist) is deprecated and will be removed in a future version.\n",
            "Instructions for updating:\n",
            "Please use tf.data to implement this functionality.\n",
            "Extracting MNIST_data/train-labels-idx1-ubyte.gz\n",
            "WARNING:tensorflow:From /tensorflow-1.15.2/python3.6/tensorflow_core/contrib/learn/python/learn/datasets/mnist.py:110: dense_to_one_hot (from tensorflow.contrib.learn.python.learn.datasets.mnist) is deprecated and will be removed in a future version.\n",
            "Instructions for updating:\n",
            "Please use tf.one_hot on tensors.\n",
            "Extracting MNIST_data/t10k-images-idx3-ubyte.gz\n",
            "Extracting MNIST_data/t10k-labels-idx1-ubyte.gz\n",
            "WARNING:tensorflow:From /tensorflow-1.15.2/python3.6/tensorflow_core/contrib/learn/python/learn/datasets/mnist.py:290: DataSet.__init__ (from tensorflow.contrib.learn.python.learn.datasets.mnist) is deprecated and will be removed in a future version.\n",
            "Instructions for updating:\n",
            "Please use alternatives such as official/mnist/dataset.py from tensorflow/models.\n",
            "WARNING:tensorflow:From <ipython-input-2-7f349480b95f>:19: calling dropout (from tensorflow.python.ops.nn_ops) with keep_prob is deprecated and will be removed in a future version.\n",
            "Instructions for updating:\n",
            "Please use `rate` instead of `keep_prob`. Rate should be set to `rate = 1 - keep_prob`.\n",
            "WARNING:tensorflow:From <ipython-input-2-7f349480b95f>:37: softmax_cross_entropy_with_logits (from tensorflow.python.ops.nn_ops) is deprecated and will be removed in a future version.\n",
            "Instructions for updating:\n",
            "\n",
            "Future major versions of TensorFlow will allow gradients to flow\n",
            "into the labels input on backprop by default.\n",
            "\n",
            "See `tf.nn.softmax_cross_entropy_with_logits_v2`.\n",
            "\n",
            "Iter 0,Testing Accuracy 0.9185,Training Accuracy 0.91096365\n",
            "Iter 1,Testing Accuracy 0.9301,Training Accuracy 0.9267091\n",
            "Iter 2,Testing Accuracy 0.9335,Training Accuracy 0.93421817\n",
            "Iter 3,Testing Accuracy 0.9411,Training Accuracy 0.9412364\n",
            "Iter 4,Testing Accuracy 0.9436,Training Accuracy 0.9448364\n",
            "Iter 5,Testing Accuracy 0.9481,Training Accuracy 0.94921815\n",
            "Iter 6,Testing Accuracy 0.9485,Training Accuracy 0.95192724\n",
            "Iter 7,Testing Accuracy 0.951,Training Accuracy 0.95425457\n",
            "Iter 8,Testing Accuracy 0.9534,Training Accuracy 0.95625454\n",
            "Iter 9,Testing Accuracy 0.9549,Training Accuracy 0.9585636\n",
            "Iter 10,Testing Accuracy 0.9573,Training Accuracy 0.9608182\n",
            "Iter 11,Testing Accuracy 0.9579,Training Accuracy 0.96214545\n",
            "Iter 12,Testing Accuracy 0.9601,Training Accuracy 0.9632909\n",
            "Iter 13,Testing Accuracy 0.9601,Training Accuracy 0.9644\n",
            "Iter 14,Testing Accuracy 0.9624,Training Accuracy 0.96614546\n",
            "Iter 15,Testing Accuracy 0.9624,Training Accuracy 0.9666182\n",
            "Iter 16,Testing Accuracy 0.9622,Training Accuracy 0.9683273\n",
            "Iter 17,Testing Accuracy 0.9625,Training Accuracy 0.9687818\n",
            "Iter 18,Testing Accuracy 0.9639,Training Accuracy 0.9700182\n",
            "Iter 19,Testing Accuracy 0.9645,Training Accuracy 0.9709091\n",
            "Iter 20,Testing Accuracy 0.9666,Training Accuracy 0.9722546\n",
            "Iter 21,Testing Accuracy 0.9665,Training Accuracy 0.97263634\n",
            "Iter 22,Testing Accuracy 0.9666,Training Accuracy 0.97365457\n",
            "Iter 23,Testing Accuracy 0.9677,Training Accuracy 0.9732182\n",
            "Iter 24,Testing Accuracy 0.9677,Training Accuracy 0.9741455\n",
            "Iter 25,Testing Accuracy 0.9684,Training Accuracy 0.9750182\n",
            "Iter 26,Testing Accuracy 0.969,Training Accuracy 0.9750909\n",
            "Iter 27,Testing Accuracy 0.9691,Training Accuracy 0.97525454\n",
            "Iter 28,Testing Accuracy 0.9693,Training Accuracy 0.977\n",
            "Iter 29,Testing Accuracy 0.9698,Training Accuracy 0.9778909\n",
            "Iter 30,Testing Accuracy 0.9691,Training Accuracy 0.97810906\n"
          ],
          "name": "stdout"
        }
      ]
    }
  ]
}