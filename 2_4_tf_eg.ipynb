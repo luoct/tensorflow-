{
  "nbformat": 4,
  "nbformat_minor": 0,
  "metadata": {
    "colab": {
      "name": "2-4-tf_eg.ipynb",
      "provenance": [],
      "authorship_tag": "ABX9TyNLQ4/+KNzvNAYQOrp9t38+",
      "include_colab_link": true
    },
    "kernelspec": {
      "name": "python3",
      "display_name": "Python 3"
    }
  },
  "cells": [
    {
      "cell_type": "markdown",
      "metadata": {
        "id": "view-in-github",
        "colab_type": "text"
      },
      "source": [
        "<a href=\"https://colab.research.google.com/github/luoct/tensorflow-/blob/main/2_4_tf_eg.ipynb\" target=\"_parent\"><img src=\"https://colab.research.google.com/assets/colab-badge.svg\" alt=\"Open In Colab\"/></a>"
      ]
    },
    {
      "cell_type": "code",
      "metadata": {
        "id": "Vmqj9cMeqALf",
        "colab": {
          "base_uri": "https://localhost:8080/"
        },
        "outputId": "8c780a70-453f-485c-979b-85bc1e139aad"
      },
      "source": [
        "%tensorflow_version 1.x\r\n",
        "import numpy as np\r\n",
        "import matplotlib.pyplot as plt\r\n",
        "import tensorflow as tf"
      ],
      "execution_count": null,
      "outputs": [
        {
          "output_type": "stream",
          "text": [
            "TensorFlow 1.x selected.\n"
          ],
          "name": "stdout"
        }
      ]
    },
    {
      "cell_type": "code",
      "metadata": {
        "id": "X1KvNpwtrJCy",
        "colab": {
          "base_uri": "https://localhost:8080/"
        },
        "outputId": "be7e8fe9-7a5b-4c61-8ccc-a5dda2b2e25c"
      },
      "source": [
        "# 生成随机的数据\r\n",
        "x_data = np.random.rand(100)\r\n",
        "y_data = x_data*0.1 + 0.2\r\n",
        "\r\n",
        "# 构造一个线性模型\r\n",
        "k = tf.Variable(0.0)\r\n",
        "b = tf.Variable(0.0)\r\n",
        "y = k*x_data+b\r\n",
        "\r\n",
        "loss = tf.reduce_mean(tf.square(y_data-y))\r\n",
        "optimizer = tf.compat.v1.train.GradientDescentOptimizer(0.2)\r\n",
        "train = optimizer.minimize(loss)\r\n",
        "\r\n",
        "with tf.compat.v1.Session() as sess:\r\n",
        "  sess.run(tf.global_variables_initializer())\r\n",
        "  for step in range(200):\r\n",
        "    sess.run(train)\r\n",
        "    if step%20 == 0:\r\n",
        "      print(step, sess.run([k,b]))"
      ],
      "execution_count": null,
      "outputs": [
        {
          "output_type": "stream",
          "text": [
            "0 [0.05233797, 0.09973612]\n",
            "20 [0.10240764, 0.19873333]\n",
            "40 [0.10145607, 0.19923401]\n",
            "60 [0.10088056, 0.19953677]\n",
            "80 [0.10053253, 0.19971986]\n",
            "100 [0.100322045, 0.19983058]\n",
            "120 [0.10019474, 0.19989756]\n",
            "140 [0.10011777, 0.19993804]\n",
            "160 [0.10007124, 0.19996253]\n",
            "180 [0.100043096, 0.19997734]\n"
          ],
          "name": "stdout"
        }
      ]
    },
    {
      "cell_type": "code",
      "metadata": {
        "id": "N6gJ7kzE2rlb"
      },
      "source": [
        ""
      ],
      "execution_count": null,
      "outputs": []
    }
  ]
}