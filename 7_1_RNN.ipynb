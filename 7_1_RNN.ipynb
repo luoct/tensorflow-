{
  "nbformat": 4,
  "nbformat_minor": 0,
  "metadata": {
    "colab": {
      "name": "7-1-RNN.ipynb",
      "provenance": [],
      "authorship_tag": "ABX9TyP/x93Gnob2VaOFt+EUqioF",
      "include_colab_link": true
    },
    "kernelspec": {
      "name": "python3",
      "display_name": "Python 3"
    }
  },
  "cells": [
    {
      "cell_type": "markdown",
      "metadata": {
        "id": "view-in-github",
        "colab_type": "text"
      },
      "source": [
        "<a href=\"https://colab.research.google.com/github/luoct/tensorflow-GettingStart/blob/main/7_1_RNN.ipynb\" target=\"_parent\"><img src=\"https://colab.research.google.com/assets/colab-badge.svg\" alt=\"Open In Colab\"/></a>"
      ]
    },
    {
      "cell_type": "code",
      "metadata": {
        "colab": {
          "base_uri": "https://localhost:8080/"
        },
        "id": "jyfV3Sf0Bvjq",
        "outputId": "46a67590-bed9-4d80-84a5-1356ed38321c"
      },
      "source": [
        "%tensorflow_version 1.x\r\n",
        "import tensorflow as tf\r\n",
        "from tensorflow.examples.tutorials.mnist import input_data"
      ],
      "execution_count": 1,
      "outputs": [
        {
          "output_type": "stream",
          "text": [
            "TensorFlow 1.x selected.\n"
          ],
          "name": "stdout"
        }
      ]
    },
    {
      "cell_type": "code",
      "metadata": {
        "colab": {
          "base_uri": "https://localhost:8080/"
        },
        "id": "Iv4Syex8Bppw",
        "outputId": "93a04ca8-516b-4dca-f75f-c201f24eb718"
      },
      "source": [
        "\r\n",
        "#载入数据集\r\n",
        "mnist = input_data.read_data_sets(\"MNIST_data/\",one_hot=True)\r\n",
        "\r\n",
        "# 输入图片是28*28\r\n",
        "n_inputs = 28 #输入一行，一行有28个数据\r\n",
        "max_time = 28 #一共28行\r\n",
        "lstm_size = 100 #隐层单元\r\n",
        "n_classes = 10 # 10个分类\r\n",
        "batch_size = 50 #每批次50个样本\r\n",
        "n_batch = mnist.train.num_examples // batch_size #计算一共有多少个批次\r\n",
        "\r\n",
        "#这里的none表示第一个维度可以是任意的长度\r\n",
        "x = tf.placeholder(tf.float32,[None,784])\r\n",
        "#正确的标签\r\n",
        "y = tf.placeholder(tf.float32,[None,10])\r\n",
        "\r\n",
        "#初始化权值\r\n",
        "weights = tf.Variable(tf.truncated_normal([lstm_size, n_classes], stddev=0.1))\r\n",
        "#初始化偏置值\r\n",
        "biases = tf.Variable(tf.constant(0.1, shape=[n_classes]))\r\n",
        "\r\n",
        "\r\n",
        "#定义RNN网络\r\n",
        "def RNN(X,weights,biases):\r\n",
        "    # inputs=[batch_size, max_time, n_inputs]\r\n",
        "    inputs = tf.reshape(X,[-1,max_time,n_inputs])\r\n",
        "    #定义LSTM基本CELL\r\n",
        "    lstm_cell = tf.nn.rnn_cell.BasicLSTMCell(lstm_size)\r\n",
        "    # final_state[0]是cell state\r\n",
        "    # final_state[1]是hidden_state\r\n",
        "    outputs,final_state = tf.nn.dynamic_rnn(lstm_cell,inputs,dtype=tf.float32)\r\n",
        "    results = tf.nn.softmax(tf.matmul(final_state[1],weights) + biases)\r\n",
        "    return results\r\n",
        "    \r\n",
        "    \r\n",
        "#计算RNN的返回结果\r\n",
        "prediction= RNN(x, weights, biases)  \r\n",
        "#损失函数\r\n",
        "cross_entropy = tf.reduce_mean(tf.nn.softmax_cross_entropy_with_logits(logits=prediction,labels=y))\r\n",
        "#使用AdamOptimizer进行优化\r\n",
        "train_step = tf.train.AdamOptimizer(1e-4).minimize(cross_entropy)\r\n",
        "#结果存放在一个布尔型列表中\r\n",
        "correct_prediction = tf.equal(tf.argmax(y,1),tf.argmax(prediction,1))#argmax返回一维张量中最大的值所在的位置\r\n",
        "#求准确率\r\n",
        "accuracy = tf.reduce_mean(tf.cast(correct_prediction,tf.float32))#把correct_prediction变为float32类型\r\n",
        "#初始化\r\n",
        "init = tf.global_variables_initializer()\r\n",
        "\r\n",
        "with tf.Session() as sess:\r\n",
        "    sess.run(init)\r\n",
        "    for epoch in range(10):\r\n",
        "        for batch in range(n_batch):\r\n",
        "            batch_xs,batch_ys =  mnist.train.next_batch(batch_size)\r\n",
        "            sess.run(train_step,feed_dict={x:batch_xs,y:batch_ys})\r\n",
        "        \r\n",
        "        acc = sess.run(accuracy,feed_dict={x:mnist.test.images,y:mnist.test.labels})\r\n",
        "        print (\"Iter \" + str(epoch) + \", Testing Accuracy= \" + str(acc))\r\n"
      ],
      "execution_count": 3,
      "outputs": [
        {
          "output_type": "stream",
          "text": [
            "Extracting MNIST_data/train-images-idx3-ubyte.gz\n",
            "Extracting MNIST_data/train-labels-idx1-ubyte.gz\n",
            "Extracting MNIST_data/t10k-images-idx3-ubyte.gz\n",
            "Extracting MNIST_data/t10k-labels-idx1-ubyte.gz\n",
            "WARNING:tensorflow:From <ipython-input-3-beb6112b7b15>:29: BasicLSTMCell.__init__ (from tensorflow.python.ops.rnn_cell_impl) is deprecated and will be removed in a future version.\n",
            "Instructions for updating:\n",
            "This class is equivalent as tf.keras.layers.LSTMCell, and will be replaced by that in Tensorflow 2.0.\n",
            "WARNING:tensorflow:From <ipython-input-3-beb6112b7b15>:32: dynamic_rnn (from tensorflow.python.ops.rnn) is deprecated and will be removed in a future version.\n",
            "Instructions for updating:\n",
            "Please use `keras.layers.RNN(cell)`, which is equivalent to this API\n",
            "WARNING:tensorflow:From /tensorflow-1.15.2/python3.6/tensorflow_core/python/ops/rnn_cell_impl.py:735: Layer.add_variable (from tensorflow.python.keras.engine.base_layer) is deprecated and will be removed in a future version.\n",
            "Instructions for updating:\n",
            "Please use `layer.add_weight` method instead.\n",
            "WARNING:tensorflow:From /tensorflow-1.15.2/python3.6/tensorflow_core/python/ops/rnn_cell_impl.py:739: calling Zeros.__init__ (from tensorflow.python.ops.init_ops) with dtype is deprecated and will be removed in a future version.\n",
            "Instructions for updating:\n",
            "Call initializer instance with the dtype argument instead of passing it to the constructor\n",
            "WARNING:tensorflow:From <ipython-input-3-beb6112b7b15>:40: softmax_cross_entropy_with_logits (from tensorflow.python.ops.nn_ops) is deprecated and will be removed in a future version.\n",
            "Instructions for updating:\n",
            "\n",
            "Future major versions of TensorFlow will allow gradients to flow\n",
            "into the labels input on backprop by default.\n",
            "\n",
            "See `tf.nn.softmax_cross_entropy_with_logits_v2`.\n",
            "\n",
            "Iter 0, Testing Accuracy= 0.7069\n",
            "Iter 1, Testing Accuracy= 0.8738\n",
            "Iter 2, Testing Accuracy= 0.9045\n",
            "Iter 3, Testing Accuracy= 0.9195\n",
            "Iter 4, Testing Accuracy= 0.9299\n",
            "Iter 5, Testing Accuracy= 0.9349\n",
            "Iter 6, Testing Accuracy= 0.9437\n",
            "Iter 7, Testing Accuracy= 0.9449\n",
            "Iter 8, Testing Accuracy= 0.9426\n",
            "Iter 9, Testing Accuracy= 0.9501\n"
          ],
          "name": "stdout"
        }
      ]
    }
  ]
}