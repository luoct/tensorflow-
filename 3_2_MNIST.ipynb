{
  "nbformat": 4,
  "nbformat_minor": 0,
  "metadata": {
    "colab": {
      "name": "3-2-MNIST.ipynb",
      "provenance": [],
      "authorship_tag": "ABX9TyMNqahg8d5ZXX8vrf+uMFDh",
      "include_colab_link": true
    },
    "kernelspec": {
      "name": "python3",
      "display_name": "Python 3"
    }
  },
  "cells": [
    {
      "cell_type": "markdown",
      "metadata": {
        "id": "view-in-github",
        "colab_type": "text"
      },
      "source": [
        "<a href=\"https://colab.research.google.com/github/luoct/tensorflow-/blob/main/3_2_MNIST.ipynb\" target=\"_parent\"><img src=\"https://colab.research.google.com/assets/colab-badge.svg\" alt=\"Open In Colab\"/></a>"
      ]
    },
    {
      "cell_type": "code",
      "metadata": {
        "colab": {
          "base_uri": "https://localhost:8080/"
        },
        "id": "3Sz23cmRlPss",
        "outputId": "5e0c0483-1a6a-420d-d43c-9f73806fb3dc"
      },
      "source": [
        "%tensorflow_version 1.x\r\n",
        "\r\n",
        "import tensorflow as tf\r\n",
        "from tensorflow.examples.tutorials.mnist import input_data\r\n",
        "\r\n",
        "#载入数据集\r\n",
        "mnist = input_data.read_data_sets(\"MNIST_data/\",one_hot=True)\r\n",
        "\r\n",
        "#每个批次的大小\r\n",
        "batch_size = 100\r\n",
        "#计算一共有多少个批次\r\n",
        "n_batch = mnist.train.num_examples // batch_size\r\n",
        "\r\n",
        "#定义两个placeholder\r\n",
        "x = tf.placeholder(tf.float32,[None,784])\r\n",
        "y = tf.placeholder(tf.float32,[None,10])\r\n",
        "\r\n",
        "#创建一个简单的神经网络\r\n",
        "W1 = tf.Variable(tf.zeros([784,10]))\r\n",
        "b1 = tf.Variable(tf.zeros([10])) \r\n",
        "prediction = tf.nn.softmax(tf.matmul(x,W1)+b1)\r\n",
        "\r\n",
        "# W2 = tf.Variable(tf.zeros([100,10]))\r\n",
        "# b2 = tf.Variable(tf.zeros([1]))\r\n",
        "# L2 = tf.matmul(L1,W2)+b2\r\n",
        "# prediction = tf.nn.softmax(L2)\r\n",
        "\r\n",
        "#二次代价函数\r\n",
        "loss = tf.reduce_mean(tf.nn.softmax_cross_entropy_with_logits(labels=y,logits=prediction))\r\n",
        "#使用梯度下降法\r\n",
        "train_step = tf.train.GradientDescentOptimizer(0.2).minimize(loss)\r\n",
        "\r\n",
        "#初始化变量\r\n",
        "init = tf.global_variables_initializer()\r\n",
        "\r\n",
        "#结果存放在一个布尔型列表中\r\n",
        "correct_prediction = tf.equal(tf.argmax(y,1),tf.argmax(prediction,1))#argmax返回一维张量中最大的值所在的位置\r\n",
        "#求准确率\r\n",
        "accuracy = tf.reduce_mean(tf.cast(correct_prediction,tf.float32))\r\n",
        "\r\n",
        "with tf.Session() as sess:\r\n",
        "    sess.run(init)\r\n",
        "    for epoch in range(21):\r\n",
        "        for batch in range(n_batch):\r\n",
        "            batch_xs,batch_ys =  mnist.train.next_batch(batch_size)\r\n",
        "            sess.run(train_step,feed_dict={x:batch_xs,y:batch_ys})\r\n",
        "        \r\n",
        "        acc = sess.run(accuracy,feed_dict={x:mnist.test.images,y:mnist.test.labels})\r\n",
        "        print(\"Iter \" + str(epoch) + \",Testing Accuracy \" + str(acc))\r\n",
        "\r\n"
      ],
      "execution_count": null,
      "outputs": [
        {
          "output_type": "stream",
          "text": [
            "Extracting MNIST_data/train-images-idx3-ubyte.gz\n",
            "Extracting MNIST_data/train-labels-idx1-ubyte.gz\n",
            "Extracting MNIST_data/t10k-images-idx3-ubyte.gz\n",
            "Extracting MNIST_data/t10k-labels-idx1-ubyte.gz\n",
            "Iter 0,Testing Accuracy 0.8241\n",
            "Iter 1,Testing Accuracy 0.8932\n",
            "Iter 2,Testing Accuracy 0.9005\n",
            "Iter 3,Testing Accuracy 0.9056\n",
            "Iter 4,Testing Accuracy 0.9084\n",
            "Iter 5,Testing Accuracy 0.9104\n",
            "Iter 6,Testing Accuracy 0.9116\n",
            "Iter 7,Testing Accuracy 0.9136\n",
            "Iter 8,Testing Accuracy 0.9144\n",
            "Iter 9,Testing Accuracy 0.9169\n",
            "Iter 10,Testing Accuracy 0.9168\n",
            "Iter 11,Testing Accuracy 0.9186\n",
            "Iter 12,Testing Accuracy 0.919\n",
            "Iter 13,Testing Accuracy 0.9201\n",
            "Iter 14,Testing Accuracy 0.9192\n",
            "Iter 15,Testing Accuracy 0.9202\n",
            "Iter 16,Testing Accuracy 0.9203\n",
            "Iter 17,Testing Accuracy 0.9204\n",
            "Iter 18,Testing Accuracy 0.9215\n",
            "Iter 19,Testing Accuracy 0.921\n",
            "Iter 20,Testing Accuracy 0.9219\n"
          ],
          "name": "stdout"
        }
      ]
    },
    {
      "cell_type": "code",
      "metadata": {
        "id": "CMws1J06lqu-"
      },
      "source": [
        " "
      ],
      "execution_count": null,
      "outputs": []
    }
  ]
}